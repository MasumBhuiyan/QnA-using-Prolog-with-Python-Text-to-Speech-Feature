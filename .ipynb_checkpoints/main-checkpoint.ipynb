{
 "cells": [
  {
   "cell_type": "code",
   "execution_count": 1,
   "metadata": {},
   "outputs": [],
   "source": [
    "from __future__ import print_function\n",
    "from pyswip import Functor, Variable, Query, call\n",
    "from IPython.display import Audio\n",
    "from gtts import gTTS\n",
    "import os\n",
    "from pyswip import Prolog"
   ]
  },
  {
   "cell_type": "code",
   "execution_count": 2,
   "metadata": {},
   "outputs": [
    {
     "ename": "PrologError",
     "evalue": "Caused by: 'consult('/home/ubuntu/Desktop/Marathon Coding/JU.pl')'. Returned: 'error(existence_error(source_sink, /home/ubuntu/Desktop/Marathon Coding/JU.pl), _2160)'.",
     "output_type": "error",
     "traceback": [
      "\u001b[0;31m---------------------------------------------------------------------------\u001b[0m",
      "\u001b[0;31mPrologError\u001b[0m                               Traceback (most recent call last)",
      "\u001b[0;32m<ipython-input-2-d57381a14e37>\u001b[0m in \u001b[0;36m<module>\u001b[0;34m\u001b[0m\n\u001b[1;32m      1\u001b[0m \u001b[0mprolog\u001b[0m \u001b[0;34m=\u001b[0m \u001b[0mProlog\u001b[0m\u001b[0;34m(\u001b[0m\u001b[0;34m)\u001b[0m\u001b[0;34m\u001b[0m\u001b[0;34m\u001b[0m\u001b[0m\n\u001b[0;32m----> 2\u001b[0;31m \u001b[0mprolog\u001b[0m\u001b[0;34m.\u001b[0m\u001b[0mconsult\u001b[0m\u001b[0;34m(\u001b[0m\u001b[0;34m\"/home/ubuntu/Desktop/Marathon Coding/JU.pl\"\u001b[0m\u001b[0;34m)\u001b[0m\u001b[0;34m\u001b[0m\u001b[0;34m\u001b[0m\u001b[0m\n\u001b[0m",
      "\u001b[0;32m~/anaconda3/lib/python3.7/site-packages/pyswip/prolog.py\u001b[0m in \u001b[0;36mconsult\u001b[0;34m(cls, filename, catcherrors)\u001b[0m\n\u001b[1;32m    154\u001b[0m     \u001b[0;34m@\u001b[0m\u001b[0mclassmethod\u001b[0m\u001b[0;34m\u001b[0m\u001b[0;34m\u001b[0m\u001b[0m\n\u001b[1;32m    155\u001b[0m     \u001b[0;32mdef\u001b[0m \u001b[0mconsult\u001b[0m\u001b[0;34m(\u001b[0m\u001b[0mcls\u001b[0m\u001b[0;34m,\u001b[0m \u001b[0mfilename\u001b[0m\u001b[0;34m,\u001b[0m \u001b[0mcatcherrors\u001b[0m\u001b[0;34m=\u001b[0m\u001b[0;32mFalse\u001b[0m\u001b[0;34m)\u001b[0m\u001b[0;34m:\u001b[0m\u001b[0;34m\u001b[0m\u001b[0;34m\u001b[0m\u001b[0m\n\u001b[0;32m--> 156\u001b[0;31m         \u001b[0mnext\u001b[0m\u001b[0;34m(\u001b[0m\u001b[0mcls\u001b[0m\u001b[0;34m.\u001b[0m\u001b[0mquery\u001b[0m\u001b[0;34m(\u001b[0m\u001b[0mfilename\u001b[0m\u001b[0;34m.\u001b[0m\u001b[0mjoin\u001b[0m\u001b[0;34m(\u001b[0m\u001b[0;34m[\u001b[0m\u001b[0;34m\"consult('\"\u001b[0m\u001b[0;34m,\u001b[0m \u001b[0;34m\"')\"\u001b[0m\u001b[0;34m]\u001b[0m\u001b[0;34m)\u001b[0m\u001b[0;34m,\u001b[0m \u001b[0mcatcherrors\u001b[0m\u001b[0;34m=\u001b[0m\u001b[0mcatcherrors\u001b[0m\u001b[0;34m)\u001b[0m\u001b[0;34m)\u001b[0m\u001b[0;34m\u001b[0m\u001b[0;34m\u001b[0m\u001b[0m\n\u001b[0m\u001b[1;32m    157\u001b[0m \u001b[0;34m\u001b[0m\u001b[0m\n\u001b[1;32m    158\u001b[0m     \u001b[0;34m@\u001b[0m\u001b[0mclassmethod\u001b[0m\u001b[0;34m\u001b[0m\u001b[0;34m\u001b[0m\u001b[0m\n",
      "\u001b[0;32m~/anaconda3/lib/python3.7/site-packages/pyswip/prolog.py\u001b[0m in \u001b[0;36m__call__\u001b[0;34m(self, query, maxresult, catcherrors, normalize)\u001b[0m\n\u001b[1;32m    125\u001b[0m \u001b[0;34m\u001b[0m\u001b[0m\n\u001b[1;32m    126\u001b[0m                     raise PrologError(\"\".join([\"Caused by: '\", query, \"'. \",\n\u001b[0;32m--> 127\u001b[0;31m                                                \"Returned: '\", str(term), \"'.\"]))\n\u001b[0m\u001b[1;32m    128\u001b[0m \u001b[0;34m\u001b[0m\u001b[0m\n\u001b[1;32m    129\u001b[0m             \u001b[0;32mfinally\u001b[0m\u001b[0;34m:\u001b[0m \u001b[0;31m# This ensures that, whatever happens, we close the query\u001b[0m\u001b[0;34m\u001b[0m\u001b[0;34m\u001b[0m\u001b[0m\n",
      "\u001b[0;31mPrologError\u001b[0m: Caused by: 'consult('/home/ubuntu/Desktop/Marathon Coding/JU.pl')'. Returned: 'error(existence_error(source_sink, /home/ubuntu/Desktop/Marathon Coding/JU.pl), _2160)'."
     ]
    }
   ],
   "source": [
    "prolog = Prolog()\n",
    "prolog.consult(\"knowledgebase.pl\")\n"
   ]
  },
  {
   "cell_type": "code",
   "execution_count": null,
   "metadata": {},
   "outputs": [],
   "source": []
  },
  {
   "cell_type": "code",
   "execution_count": null,
   "metadata": {},
   "outputs": [],
   "source": [
    "def textToSpeech(text):\n",
    "    print(text)\n",
    "    language = 'en'\n",
    "    speech = gTTS(text = text, lang = language, slow = False)\n",
    "    speech.save(\"text.mp3\")\n",
    "    os.system(\"start text.mp3\")\n",
    "    from IPython.display import Audio\n",
    "    audio = Audio(filename='./text.mp3', autoplay=True)\n",
    "    display(audio)\n",
    "    return"
   ]
  },
  {
   "cell_type": "code",
   "execution_count": null,
   "metadata": {},
   "outputs": [],
   "source": [
    "keywords = {\"name\", \"establish\", \"location\"}"
   ]
  },
  {
   "cell_type": "code",
   "execution_count": null,
   "metadata": {},
   "outputs": [],
   "source": []
  },
  {
   "cell_type": "code",
   "execution_count": null,
   "metadata": {},
   "outputs": [],
   "source": [
    "def isKey(word):\n",
    "    for data in keywords:\n",
    "        if data == word: \n",
    "            return 1\n",
    "    return 0"
   ]
  },
  {
   "cell_type": "code",
   "execution_count": null,
   "metadata": {},
   "outputs": [],
   "source": [
    "def callProlog(predicate):\n",
    "    assertz = Functor(\"assertz\", 1)\n",
    "    predicate = Functor(predicate, 1)\n",
    "    X = Variable()\n",
    "    q = Query(predicate(X))\n",
    "    while q.nextSolution():\n",
    "        print(X.value)\n",
    "        text = str(X.value)\n",
    "        textToSpeech(text)\n",
    "    q.closeQuery()\n",
    "    return"
   ]
  },
  {
   "cell_type": "code",
   "execution_count": null,
   "metadata": {},
   "outputs": [],
   "source": [
    "def query(question) :\n",
    "    print(question)\n",
    "    data = question.split(\" \")\n",
    "    for keyword in data:\n",
    "        if( isKey(keyword) ):\n",
    "            callProlog(keyword)\n",
    "    return"
   ]
  },
  {
   "cell_type": "code",
   "execution_count": null,
   "metadata": {},
   "outputs": [],
   "source": [
    "question = \"location\"\n",
    "query(question)"
   ]
  },
  {
   "cell_type": "code",
   "execution_count": null,
   "metadata": {},
   "outputs": [],
   "source": [
    "text = textToSpeech(\"Hello WOrld\")"
   ]
  }
 ],
 "metadata": {
  "kernelspec": {
   "display_name": "Python 3",
   "language": "python",
   "name": "python3"
  },
  "language_info": {
   "codemirror_mode": {
    "name": "ipython",
    "version": 3
   },
   "file_extension": ".py",
   "mimetype": "text/x-python",
   "name": "python",
   "nbconvert_exporter": "python",
   "pygments_lexer": "ipython3",
   "version": "3.7.4"
  }
 },
 "nbformat": 4,
 "nbformat_minor": 2
}

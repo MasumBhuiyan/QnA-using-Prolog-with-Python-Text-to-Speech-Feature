{
 "cells": [
  {
   "cell_type": "code",
   "execution_count": 1,
   "metadata": {},
   "outputs": [],
   "source": [
    "from __future__ import print_function\n",
    "from pyswip import Functor, Variable, Query, call\n",
    "from IPython.display import Audio\n",
    "from gtts import gTTS\n",
    "import os\n",
    "from pyswip import Prolog"
   ]
  },
  {
   "cell_type": "code",
   "execution_count": 2,
   "metadata": {},
   "outputs": [],
   "source": [
    "prolog = Prolog()\n",
    "prolog.consult(\"knowledgebase.pl\")\n"
   ]
  },
  {
   "cell_type": "code",
   "execution_count": 3,
   "metadata": {},
   "outputs": [],
   "source": [
    "def textToSpeech(text):\n",
    "    print(text)\n",
    "    language = 'en'\n",
    "    speech = gTTS(text = text, lang = language, slow = False)\n",
    "    speech.save(\"text.mp3\")\n",
    "    os.system(\"start text.mp3\")\n",
    "    from IPython.display import Audio\n",
    "    audio = Audio(filename='./text.mp3', autoplay=True)\n",
    "    display(audio)\n",
    "    return"
   ]
  },
  {
   "cell_type": "code",
   "execution_count": 4,
   "metadata": {},
   "outputs": [],
   "source": [
    "keywords = {\"name\", \"establish\", \"location\"}"
   ]
  },
  {
   "cell_type": "code",
   "execution_count": 5,
   "metadata": {},
   "outputs": [],
   "source": [
    "def isKey(word):\n",
    "    for data in keywords:\n",
    "        if data == word: \n",
    "            return 1\n",
    "    return 0"
   ]
  },
  {
   "cell_type": "code",
   "execution_count": 6,
   "metadata": {},
   "outputs": [],
   "source": [
    "def callProlog(predicate):\n",
    "    assertz = Functor(\"assertz\", 1)\n",
    "    predicate = Functor(predicate, 1)\n",
    "    X = Variable()\n",
    "    q = Query(predicate(X))\n",
    "    while q.nextSolution():\n",
    "        print(X.value)\n",
    "        text = str(X.value)\n",
    "        textToSpeech(text)\n",
    "    q.closeQuery()\n",
    "    return"
   ]
  },
  {
   "cell_type": "code",
   "execution_count": 7,
   "metadata": {},
   "outputs": [],
   "source": [
    "def query(question) :\n",
    "    print(question)\n",
    "    data = question.split(\" \")\n",
    "    for keyword in data:\n",
    "        if( isKey(keyword) ):\n",
    "            callProlog(keyword)\n",
    "    return"
   ]
  },
  {
   "cell_type": "code",
   "execution_count": 8,
   "metadata": {},
   "outputs": [
    {
     "name": "stdout",
     "output_type": "stream",
     "text": [
      "location\n",
      "itIsInSavarUpozillaInDhaka\n",
      "itIsInSavarUpozillaInDhaka\n"
     ]
    },
    {
     "data": {
      "text/html": [
       "\n",
       "                <audio  controls=\"controls\" autoplay=\"autoplay\">\n",
       "                    <source src=\"data:audio/mpeg;base64,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\" type=\"audio/mpeg\" />\n",
       "                    Your browser does not support the audio element.\n",
       "                </audio>\n",
       "              "
      ],
      "text/plain": [
       "<IPython.lib.display.Audio object>"
      ]
     },
     "metadata": {},
     "output_type": "display_data"
    }
   ],
   "source": [
    "question = \"location\"\n",
    "query(question)"
   ]
  },
  {
   "cell_type": "code",
   "execution_count": 9,
   "metadata": {},
   "outputs": [
    {
     "name": "stdout",
     "output_type": "stream",
     "text": [
      "Hello WOrld\n"
     ]
    },
    {
     "data": {
      "text/html": [
       "\n",
       "                <audio  controls=\"controls\" autoplay=\"autoplay\">\n",
       "                    <source src=\"data:audio/mpeg;base64,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\" type=\"audio/mpeg\" />\n",
       "                    Your browser does not support the audio element.\n",
       "                </audio>\n",
       "              "
      ],
      "text/plain": [
       "<IPython.lib.display.Audio object>"
      ]
     },
     "metadata": {},
     "output_type": "display_data"
    }
   ],
   "source": [
    "text = textToSpeech(\"Hello WOrld\")"
   ]
  }
 ],
 "metadata": {
  "kernelspec": {
   "display_name": "Python 3",
   "language": "python",
   "name": "python3"
  },
  "language_info": {
   "codemirror_mode": {
    "name": "ipython",
    "version": 3
   },
   "file_extension": ".py",
   "mimetype": "text/x-python",
   "name": "python",
   "nbconvert_exporter": "python",
   "pygments_lexer": "ipython3",
   "version": "3.7.4"
  }
 },
 "nbformat": 4,
 "nbformat_minor": 2
}
